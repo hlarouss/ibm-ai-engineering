{
 "cells": [
  {
   "cell_type": "code",
   "execution_count": 30,
   "id": "84b7def5-d536-4ea3-b8d7-a66d67129daa",
   "metadata": {},
   "outputs": [
    {
     "name": "stdout",
     "output_type": "stream",
     "text": [
      "--2022-02-15 15:31:48--  https://cf-courses-data.s3.us.cloud-object-storage.appdomain.cloud/IBMDeveloperSkillsNetwork-ML0101EN-SkillsNetwork/labs/Module%202/data/FuelConsumptionCo2.csv\n",
      "Resolving cf-courses-data.s3.us.cloud-object-storage.appdomain.cloud (cf-courses-data.s3.us.cloud-object-storage.appdomain.cloud)... 169.63.118.104\n",
      "Connecting to cf-courses-data.s3.us.cloud-object-storage.appdomain.cloud (cf-courses-data.s3.us.cloud-object-storage.appdomain.cloud)|169.63.118.104|:443... connected.\n",
      "HTTP request sent, awaiting response... 200 OK\n",
      "Length: 72629 (71K) [text/csv]\n",
      "Saving to: ‘FuelConsumption.csv’\n",
      "\n",
      "FuelConsumption.csv 100%[===================>]  70.93K  --.-KB/s    in 0.001s  \n",
      "\n",
      "2022-02-15 15:31:48 (103 MB/s) - ‘FuelConsumption.csv’ saved [72629/72629]\n",
      "\n",
      "80.22492970946578\n",
      "Mean absolute error: 22.05\n",
      "Residual sum of squares (MSE): 971.47\n",
      "R2-score: 0.77\n"
     ]
    },
    {
     "data": {
      "image/png": "[encoded data removed]",
      "text/plain": [
       "<Figure size 432x288 with 1 Axes>"
      ]
     },
     "metadata": {
      "needs_background": "light"
     },
     "output_type": "display_data"
    }
   ],
   "source": [
    "import matplotlib.pyplot as plt\n",
    "import pandas as pd\n",
    "import pylab as pl\n",
    "import numpy as np\n",
    "from sklearn import linear_model\n",
    "from sklearn.metrics import r2_score\n",
    "\n",
    "%matplotlib inline\n",
    "\n",
    "!wget -O FuelConsumption.csv https://cf-courses-data.s3.us.cloud-object-storage.appdomain.cloud/IBMDeveloperSkillsNetwork-ML0101EN-SkillsNetwork/labs/Module%202/data/FuelConsumptionCo2.csv\n",
    "\n",
    "df = pd.read_csv(\"FuelConsumption.csv\")\n",
    "\n",
    "# take a look at the dataset\n",
    "#df.head()\n",
    "\n",
    "# summarize the data\n",
    "cdf = df[['ENGINESIZE','CYLINDERS','FUELCONSUMPTION_COMB','CO2EMISSIONS']]\n",
    "#cdf.head(9)\n",
    "\n",
    "#viz = cdf[['CYLINDERS','ENGINESIZE','CO2EMISSIONS','FUELCONSUMPTION_COMB']]\n",
    "#viz.hist()\n",
    "#plt.show()\n",
    "\n",
    "#plt.scatter(cdf.FUELCONSUMPTION_COMB, cdf.CO2EMISSIONS,  color='blue')\n",
    "#plt.xlabel(\"FUELCONSUMPTION_COMB\")\n",
    "#plt.ylabel(\"Emission\")\n",
    "#plt.show()\n",
    "\n",
    "#plt.scatter(cdf.ENGINESIZE, cdf.CO2EMISSIONS,  color='blue')\n",
    "#plt.xlabel(\"Engine size\")\n",
    "#plt.ylabel(\"Emission\")\n",
    "#plt.show()\n",
    "\n",
    "#plt.scatter(cdf.CYLINDERS, cdf.CO2EMISSIONS,  color='green')\n",
    "#plt.xlabel(\"Cylinders\")\n",
    "#plt.ylabel(\"Emission\")\n",
    "#plt.show()\n",
    "\n",
    "msk = np.random.rand(len(df)) < 0.8\n",
    "train = cdf[msk]\n",
    "#print(len(train))\n",
    "test = cdf[~msk]\n",
    "#print(train.head(9))\n",
    "#print(test.head(9))\n",
    "#print(len(test))\n",
    "print(len(train)/(len(test)+len(train))*100)\n",
    "\n",
    "#plt.scatter(train.ENGINESIZE, train.CO2EMISSIONS,  color='blue')\n",
    "#plt.xlabel(\"Engine size\")\n",
    "#plt.ylabel(\"Emission\")\n",
    "#plt.show()\n",
    "\n",
    "#regr = linear_model.LinearRegression()\n",
    "#train_x = np.asanyarray(train[['ENGINESIZE']])\n",
    "#train_y = np.asanyarray(train[['CO2EMISSIONS']])\n",
    "#regr.fit(train_x, train_y)\n",
    "# The coefficients\n",
    "#print ('Coefficients: ', regr.coef_)\n",
    "#print ('Intercept: ',regr.intercept_)\n",
    "\n",
    "#plt.scatter(train.ENGINESIZE, train.CO2EMISSIONS,  color='blue')\n",
    "#train_y_hat = regr.coef_[0][0]*train_x + regr.intercept_[0]\n",
    "#plt.plot(train_x, train_y_hat, '-r')\n",
    "#plt.xlabel(\"Engine size\")\n",
    "#plt.ylabel(\"Emission\")\n",
    "\n",
    "#test_x = np.asanyarray(test[['ENGINESIZE']])\n",
    "#test_y = np.asanyarray(test[['CO2EMISSIONS']])\n",
    "#test_y_ = regr.predict(test_x)\n",
    "\n",
    "#print(\"Mean absolute error: %.2f\" % np.mean(np.absolute(test_y_ - test_y)))\n",
    "#print(\"Residual sum of squares (MSE): %.2f\" % np.mean((test_y_ - test_y) ** 2))\n",
    "#print(\"R2-score: %.2f\" % r2_score(test_y , test_y_) )\n",
    "\n",
    "train_x2 = np.asanyarray(train[['FUELCONSUMPTION_COMB']])\n",
    "train_y2 = np.asanyarray(train[['CO2EMISSIONS']])\n",
    "\n",
    "regr2 = linear_model.LinearRegression()\n",
    "regr2.fit(train_x2, train_y2)\n",
    "\n",
    "plt.scatter(train.FUELCONSUMPTION_COMB, train.CO2EMISSIONS,  color='blue')\n",
    "train_y_2 = regr2.coef_[0][0]*train_x2 + regr2.intercept_[0]\n",
    "plt.plot(train_x2, train_y_2, '-r')\n",
    "plt.xlabel(\"Fuel consumption\")\n",
    "plt.ylabel(\"Emission\")\n",
    "\n",
    "test_x2 = np.asanyarray(test[['FUELCONSUMPTION_COMB']])\n",
    "test_y2 = np.asanyarray(test[['CO2EMISSIONS']])\n",
    "test_y_2 = regr2.predict(test_x2)\n",
    "\n",
    "print(\"Mean absolute error: %.2f\" % np.mean(np.absolute(test_y_2 - test_y2)))\n",
    "print(\"Residual sum of squares (MSE): %.2f\" % np.mean((test_y_2 - test_y2) ** 2))\n",
    "print(\"R2-score: %.2f\" % r2_score(test_y2 , test_y_2) )\n",
    "\n",
    "\n",
    "\n",
    "\n",
    "\n"
   ]
  },
  {
   "cell_type": "code",
   "execution_count": null,
   "id": "efc0b728-6f5e-4f61-a32a-a0f7a15f8594",
   "metadata": {},
   "outputs": [],
   "source": []
  },
  {
   "cell_type": "code",
   "execution_count": null,
   "id": "6b568342-cffe-4453-a243-644f439778b6",
   "metadata": {},
   "outputs": [],
   "source": []
  },
  {
   "cell_type": "code",
   "execution_count": null,
   "id": "1396d86d-c5b3-4e7d-b1e1-45f00f30af26",
   "metadata": {},
   "outputs": [],
   "source": []
  },
  {
   "cell_type": "code",
   "execution_count": null,
   "id": "3add2850-6a4a-4d74-a48b-390f13c2c83f",
   "metadata": {},
   "outputs": [],
   "source": []
  },
  {
   "cell_type": "code",
   "execution_count": null,
   "id": "942a0ce1-6fa2-4b76-a132-ee6d0d0a71a4",
   "metadata": {},
   "outputs": [],
   "source": []
  }
 ],
 "metadata": {
  "kernelspec": {
   "display_name": "Python",
   "language": "python",
   "name": "conda-env-python-py"
  },
  "language_info": {
   "codemirror_mode": {
    "name": "ipython",
    "version": 3
   },
   "file_extension": ".py",
   "mimetype": "text/x-python",
   "name": "python",
   "nbconvert_exporter": "python",
   "pygments_lexer": "ipython3",
   "version": "3.7.12"
  }
 },
 "nbformat": 4,
 "nbformat_minor": 5
}
