{
 "cells": [
  {
   "cell_type": "code",
   "execution_count": 2,
   "id": "8f2fbfaa-1529-424c-9172-1baaa4fdaa1e",
   "metadata": {},
   "outputs": [
    {
     "name": "stdout",
     "output_type": "stream",
     "text": [
      "2022-02-17 15:23:11 URL:https://cf-courses-data.s3.us.cloud-object-storage.appdomain.cloud/IBMDeveloperSkillsNetwork-ML0101EN-SkillsNetwork/labs/Module%202/data/china_gdp.csv [1218/1218] -> \"china_gdp.csv\" [1]\n",
      " beta_1 = 700.698084, beta_2 = 0.997113\n",
      "Mean absolute error: 0.04\n",
      "Residual sum of squares (MSE): 0.00\n",
      "R2-score: 0.91\n"
     ]
    },
    {
     "data": {
      "image/png": "[encoded data removed]",
      "text/plain": [
       "<Figure size 576x360 with 1 Axes>"
      ]
     },
     "metadata": {
      "needs_background": "light"
     },
     "output_type": "display_data"
    }
   ],
   "source": [
    "import matplotlib.pyplot as plt\n",
    "import numpy as np\n",
    "import pandas as pd\n",
    "from scipy.optimize import curve_fit\n",
    "from sklearn.metrics import r2_score\n",
    "\n",
    "%matplotlib inline\n",
    "\n",
    "#downloading dataset\n",
    "!wget -nv -O china_gdp.csv https://cf-courses-data.s3.us.cloud-object-storage.appdomain.cloud/IBMDeveloperSkillsNetwork-ML0101EN-SkillsNetwork/labs/Module%202/data/china_gdp.csv\n",
    "    \n",
    "df = pd.read_csv(\"china_gdp.csv\")\n",
    "\n",
    "#plt.figure(figsize=(8,5))\n",
    "x_data, y_data = (df[\"Year\"].values, df[\"Value\"].values)\n",
    "#plt.plot(x_data, y_data, 'ro')\n",
    "#plt.ylabel('GDP')\n",
    "#plt.xlabel('Year')\n",
    "#plt.show()\n",
    "\n",
    "# Lets normalize our data\n",
    "xdata =x_data/max(x_data)\n",
    "ydata =y_data/max(y_data)\n",
    "\n",
    "def sigmoid(x, Beta_1, Beta_2):\n",
    "     y = 1 / (1 + np.exp(-Beta_1*(x-Beta_2)))\n",
    "     return y\n",
    "\n",
    "beta_1 = 0.10\n",
    "beta_2 = 1990.0\n",
    "\n",
    "#logistic function\n",
    "Y_pred = sigmoid(x_data, beta_1 , beta_2)\n",
    "\n",
    "#plot initial prediction against datapoints\n",
    "#plt.plot(x_data, Y_pred*15000000000000.)\n",
    "#plt.plot(x_data, y_data, 'ro')\n",
    "\n",
    "#popt, pcov = curve_fit(sigmoid, xdata, ydata)\n",
    "#print the final parameters\n",
    "#print(\" beta_1 = %f, beta_2 = %f\" % (popt[0], popt[1]))\n",
    "\n",
    "#x = np.linspace(1960, 2015, 55)\n",
    "#x = x/max(x)\n",
    "#plt.figure(figsize=(8,5))\n",
    "#y = sigmoid(x, *popt)\n",
    "#plt.plot(xdata, ydata, 'ro', label='data')\n",
    "#plt.plot(x,y, linewidth=3.0, label='fit')\n",
    "#plt.legend(loc='best')\n",
    "#plt.ylabel('GDP')\n",
    "#plt.xlabel('Year')\n",
    "#plt.show()\n",
    "\n",
    "msk = np.random.rand(len(df)) < 0.8\n",
    "#train = df[msk]\n",
    "#test = df[~msk]\n",
    "\n",
    "train_x = xdata[msk]\n",
    "train_y = ydata[msk]\n",
    "\n",
    "test_x = xdata[~msk]\n",
    "test_y = ydata[~msk]\n",
    "\n",
    "popt, pcov = curve_fit(sigmoid, train_x, train_y)\n",
    "\n",
    "print(\" beta_1 = %f, beta_2 = %f\" % (popt[0], popt[1]))\n",
    "\n",
    "x = np.linspace(1960, 2015, 55)\n",
    "x = x/max(x)\n",
    "\n",
    "plt.figure(figsize=(8,5))\n",
    "plt.plot(train_x, train_y, 'ro', label='train data')\n",
    "plt.plot(test_x, test_y, 'go', label='test data')\n",
    "y = sigmoid(x, *popt)\n",
    "plt.plot(x,y, linewidth=3.0, label='fit')\n",
    "\n",
    "test_y_ = sigmoid(test_x, *popt)\n",
    "print(\"Mean absolute error: %.2f\" % np.mean(np.absolute(test_y_ - test_y)))\n",
    "print(\"Residual sum of squares (MSE): %.2f\" % np.mean((test_y_ - test_y) ** 2))\n",
    "print(\"R2-score: %.2f\" % r2_score(test_y,test_y_ ) )\n",
    "\n",
    "\n"
   ]
  },
  {
   "cell_type": "code",
   "execution_count": null,
   "id": "66a627b8-fb8e-4db4-82c0-464850d1485e",
   "metadata": {},
   "outputs": [],
   "source": []
  }
 ],
 "metadata": {
  "kernelspec": {
   "display_name": "Python",
   "language": "python",
   "name": "conda-env-python-py"
  },
  "language_info": {
   "codemirror_mode": {
    "name": "ipython",
    "version": 3
   },
   "file_extension": ".py",
   "mimetype": "text/x-python",
   "name": "python",
   "nbconvert_exporter": "python",
   "pygments_lexer": "ipython3",
   "version": "3.7.12"
  }
 },
 "nbformat": 4,
 "nbformat_minor": 5
}
