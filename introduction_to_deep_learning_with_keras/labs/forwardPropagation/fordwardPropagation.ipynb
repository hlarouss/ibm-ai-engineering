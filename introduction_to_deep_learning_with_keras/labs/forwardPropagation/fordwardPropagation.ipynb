{
 "cells": [
  {
   "cell_type": "code",
   "execution_count": 1,
   "id": "11b91651-19b1-4493-a32a-05f30437587a",
   "metadata": {},
   "outputs": [
    {
     "data": {
      "text/plain": [
       "array([0.22, 0.76, 0.62, 0.91, 0.81, 0.39])"
      ]
     },
     "execution_count": 1,
     "metadata": {},
     "output_type": "execute_result"
    }
   ],
   "source": [
    "import numpy as np # import Numpy library to generate \n",
    "\n",
    "weights = np.around(np.random.uniform(size=6), decimals=2) # initialize the weights\n",
    "biases = np.around(np.random.uniform(size=3), decimals=2) # initialize the biases"
   ]
  },
  {
   "cell_type": "code",
   "execution_count": 2,
   "id": "ff9b5181-60f9-4064-a51a-c19a718600a4",
   "metadata": {},
   "outputs": [
    {
     "name": "stdout",
     "output_type": "stream",
     "text": [
      "x1 is 0.5 and x2 is 0.85\n"
     ]
    }
   ],
   "source": [
    "x_1 = 0.5 # input 1\n",
    "x_2 = 0.85 # input 2\n",
    "\n",
    "print('x1 is {} and x2 is {}'.format(x_1, x_2))"
   ]
  },
  {
   "cell_type": "code",
   "execution_count": 3,
   "id": "dd8c5072-c6e0-49da-83cf-f981143f7c26",
   "metadata": {},
   "outputs": [
    {
     "name": "stdout",
     "output_type": "stream",
     "text": [
      "The weighted sum of the inputs at the first node in the hidden layer is 1.6760000000000002\n"
     ]
    }
   ],
   "source": [
    "z_11 = x_1 * weights[0] + x_2 * weights[1] + biases[0]\n",
    "\n",
    "print('The weighted sum of the inputs at the first node in the hidden layer is {}'.format(z_11))"
   ]
  },
  {
   "cell_type": "code",
   "execution_count": 5,
   "id": "a9e77780-fb80-4ba3-8b92-19efdf9ef122",
   "metadata": {},
   "outputs": [
    {
     "name": "stdout",
     "output_type": "stream",
     "text": [
      "The weighted sum of the inputs at the second node in the hidden layer is 1.5935\n"
     ]
    }
   ],
   "source": [
    "z_12 = x_1 * weights[2] + x_2 * weights[3] + biases[1]\n",
    "\n",
    "print('The weighted sum of the inputs at the second node in the hidden layer is {}'.format(z_12))"
   ]
  },
  {
   "cell_type": "code",
   "execution_count": 6,
   "id": "f99cde40-b44c-4f8a-97f0-4442f5cd8265",
   "metadata": {},
   "outputs": [
    {
     "name": "stdout",
     "output_type": "stream",
     "text": [
      "The activation of the first node in the hidden layer is 0.8424\n"
     ]
    }
   ],
   "source": [
    "a_11 = 1.0 / (1.0 + np.exp(-z_11))\n",
    "\n",
    "print('The activation of the first node in the hidden layer is {}'.format(np.around(a_11, decimals=4)))"
   ]
  },
  {
   "cell_type": "code",
   "execution_count": 7,
   "id": "2dbbb53e-5d0e-4927-9089-789f5ede10f1",
   "metadata": {},
   "outputs": [
    {
     "name": "stdout",
     "output_type": "stream",
     "text": [
      "The activation of the second node in the hidden layer is 0.8311\n"
     ]
    }
   ],
   "source": [
    "a_12 = 1.0 / (1.0 + np.exp(-z_12))\n",
    "\n",
    "print('The activation of the second node in the hidden layer is {}'.format(np.around(a_12, decimals=4)))"
   ]
  },
  {
   "cell_type": "code",
   "execution_count": 10,
   "id": "247eb728-c073-4ab3-80d5-912c876ec38a",
   "metadata": {},
   "outputs": [
    {
     "name": "stdout",
     "output_type": "stream",
     "text": [
      "The weighted sum of the inputs at the third node in the outer layer is 1.2164551560646337\n"
     ]
    }
   ],
   "source": [
    "z_2 = a_11 * weights[4] + a_12 * weights[5] + biases[2]\n",
    "\n",
    "print('The weighted sum of the inputs at the third node in the outer layer is {}'.format(z_2))"
   ]
  },
  {
   "cell_type": "code",
   "execution_count": 11,
   "id": "7bdc5e51-a1f6-4fa2-a4e3-7ca638a52129",
   "metadata": {},
   "outputs": [
    {
     "name": "stdout",
     "output_type": "stream",
     "text": [
      "The activation of the outer layer is 0.7714\n"
     ]
    }
   ],
   "source": [
    "a_2 = 1.0 / (1.0 + np.exp(-z_2))\n",
    "\n",
    "print('The activation of the outer layer is {}'.format(np.around(a_2, decimals=4)))"
   ]
  },
  {
   "cell_type": "code",
   "execution_count": 12,
   "id": "b2aab7b6-5716-4a39-ab02-6a3ef95a1219",
   "metadata": {},
   "outputs": [],
   "source": [
    "n = 2 # number of inputs\n",
    "num_hidden_layers = 2 # number of hidden layers\n",
    "m = [2, 2] # number of nodes in each hidden layer\n",
    "num_nodes_output = 1 # number of nodes in the output layer"
   ]
  },
  {
   "cell_type": "code",
   "execution_count": 13,
   "id": "dc8bc1a7-e191-4b8a-895e-6ab9b3837031",
   "metadata": {},
   "outputs": [
    {
     "name": "stdout",
     "output_type": "stream",
     "text": [
      "{'layer_1': {'node_1': {'weights': array([0.71, 0.33]), 'bias': array([1.])}, 'node_2': {'weights': array([0.91, 0.94]), 'bias': array([0.13])}}, 'layer_2': {'node_1': {'weights': array([0.51, 0.9 ]), 'bias': array([0.04])}, 'node_2': {'weights': array([0.97, 0.97]), 'bias': array([0.52])}}, 'output': {'node_1': {'weights': array([0.89, 0.15]), 'bias': array([0.26])}}}\n"
     ]
    }
   ],
   "source": [
    "num_nodes_previous = n # number of nodes in the previous layer\n",
    "\n",
    "network = {} # initialize network an an empty dictionary\n",
    "\n",
    "# loop through each layer and randomly initialize the weights and biases associated with each node\n",
    "# notice how we are adding 1 to the number of hidden layers in order to include the output layer\n",
    "for layer in range(num_hidden_layers + 1): \n",
    "    \n",
    "    # determine name of layer\n",
    "    if layer == num_hidden_layers:\n",
    "        layer_name = 'output'\n",
    "        num_nodes = num_nodes_output\n",
    "    else:\n",
    "        layer_name = 'layer_{}'.format(layer + 1)\n",
    "        num_nodes = m[layer]\n",
    "    \n",
    "    # initialize weights and biases associated with each node in the current layer\n",
    "    network[layer_name] = {}\n",
    "    for node in range(num_nodes):\n",
    "        node_name = 'node_{}'.format(node+1)\n",
    "        network[layer_name][node_name] = {\n",
    "            'weights': np.around(np.random.uniform(size=num_nodes_previous), decimals=2),\n",
    "            'bias': np.around(np.random.uniform(size=1), decimals=2),\n",
    "        }\n",
    "    \n",
    "    num_nodes_previous = num_nodes\n",
    "    \n",
    "print(network) # print network"
   ]
  },
  {
   "cell_type": "code",
   "execution_count": 14,
   "id": "f57f8daf-b764-4775-bcf4-c052b0f7fa26",
   "metadata": {},
   "outputs": [],
   "source": [
    "def initialize_network(num_inputs, num_hidden_layers, num_nodes_hidden, num_nodes_output):\n",
    "    \n",
    "    num_nodes_previous = num_inputs # number of nodes in the previous layer\n",
    "\n",
    "    network = {}\n",
    "    \n",
    "    # loop through each layer and randomly initialize the weights and biases associated with each layer\n",
    "    for layer in range(num_hidden_layers + 1):\n",
    "        \n",
    "        if layer == num_hidden_layers:\n",
    "            layer_name = 'output' # name last layer in the network output\n",
    "            num_nodes = num_nodes_output\n",
    "        else:\n",
    "            layer_name = 'layer_{}'.format(layer + 1) # otherwise give the layer a number\n",
    "            num_nodes = num_nodes_hidden[layer] \n",
    "        \n",
    "        # initialize weights and bias for each node\n",
    "        network[layer_name] = {}\n",
    "        for node in range(num_nodes):\n",
    "            node_name = 'node_{}'.format(node+1)\n",
    "            network[layer_name][node_name] = {\n",
    "                'weights': np.around(np.random.uniform(size=num_nodes_previous), decimals=2),\n",
    "                'bias': np.around(np.random.uniform(size=1), decimals=2),\n",
    "            }\n",
    "    \n",
    "        num_nodes_previous = num_nodes\n",
    "\n",
    "    return network # return the network"
   ]
  },
  {
   "cell_type": "code",
   "execution_count": 15,
   "id": "88d5ed1f-b9ca-45d0-8e4d-466b5c8fa9e7",
   "metadata": {},
   "outputs": [
    {
     "data": {
      "text/plain": [
       "{'layer_1': {'node_1': {'weights': array([0.37, 0.98, 0.17, 0.14, 0.08]),\n",
       "   'bias': array([0.52])},\n",
       "  'node_2': {'weights': array([0.47, 0.57, 0.58, 0.61, 0.6 ]),\n",
       "   'bias': array([0.33])},\n",
       "  'node_3': {'weights': array([0.99, 0.09, 1.  , 0.31, 0.98]),\n",
       "   'bias': array([0.85])}},\n",
       " 'layer_2': {'node_1': {'weights': array([0.45, 0.54, 0.91]),\n",
       "   'bias': array([0.13])},\n",
       "  'node_2': {'weights': array([0.88, 0.28, 0.67]), 'bias': array([0.23])}},\n",
       " 'layer_3': {'node_1': {'weights': array([0.07, 0.46]), 'bias': array([0.57])},\n",
       "  'node_2': {'weights': array([0.43, 0.12]), 'bias': array([1.])},\n",
       "  'node_3': {'weights': array([0.04, 0.17]), 'bias': array([0.56])}},\n",
       " 'output': {'node_1': {'weights': array([0.28, 0.96, 0.07]),\n",
       "   'bias': array([0.99])}}}"
      ]
     },
     "execution_count": 15,
     "metadata": {},
     "output_type": "execute_result"
    }
   ],
   "source": [
    "small_network = initialize_network(5, 3, [3, 2, 3], 1)\n",
    "small_network"
   ]
  },
  {
   "cell_type": "code",
   "execution_count": 16,
   "id": "600e9cb2-6ccd-48b0-9916-23219a46bbd7",
   "metadata": {},
   "outputs": [],
   "source": [
    "def compute_weighted_sum(inputs, weights, bias):\n",
    "    return np.sum(inputs * weights) + bias"
   ]
  },
  {
   "cell_type": "code",
   "execution_count": 17,
   "id": "0a6ecee0-a47a-4bf1-bc11-6181a376b144",
   "metadata": {},
   "outputs": [
    {
     "name": "stdout",
     "output_type": "stream",
     "text": [
      "The inputs to the network are [0.15 0.74 0.26 0.53 0.01]\n"
     ]
    }
   ],
   "source": [
    "from random import seed\n",
    "\n",
    "np.random.seed(12)\n",
    "inputs = np.around(np.random.uniform(size=5), decimals=2)\n",
    "\n",
    "print('The inputs to the network are {}'.format(inputs))"
   ]
  },
  {
   "cell_type": "code",
   "execution_count": 20,
   "id": "605ad5a0-5773-4bbd-a02d-7a2c8475b57f",
   "metadata": {},
   "outputs": [
    {
     "data": {
      "text/plain": [
       "array([1.4199])"
      ]
     },
     "execution_count": 20,
     "metadata": {},
     "output_type": "execute_result"
    }
   ],
   "source": [
    "weighted_sum = compute_weighted_sum(inputs, small_network['layer_1']['node_1']['weights'], small_network['layer_1']['node_1']['bias'])\n",
    "weighted_sum"
   ]
  },
  {
   "cell_type": "code",
   "execution_count": 21,
   "id": "fcf2c95b-c024-43aa-9116-36af588a46c8",
   "metadata": {},
   "outputs": [],
   "source": [
    "def node_activation(weighted_sum):\n",
    "    return 1.0 / (1.0 + np.exp(-1 * weighted_sum))"
   ]
  },
  {
   "cell_type": "code",
   "execution_count": 22,
   "id": "a73be903-e7e6-4f5d-8ac4-61867f020023",
   "metadata": {},
   "outputs": [
    {
     "data": {
      "text/plain": [
       "array([0.80532274])"
      ]
     },
     "execution_count": 22,
     "metadata": {},
     "output_type": "execute_result"
    }
   ],
   "source": [
    "node_output = node_activation(weighted_sum)\n",
    "node_output"
   ]
  },
  {
   "cell_type": "code",
   "execution_count": 23,
   "id": "44dc1d70-1fe1-4423-b4cd-c7d50ba9a464",
   "metadata": {},
   "outputs": [],
   "source": [
    "def forward_propagate(network, inputs):\n",
    "    \n",
    "    layer_inputs = list(inputs) # start with the input layer as the input to the first hidden layer\n",
    "    \n",
    "    for layer in network:\n",
    "        \n",
    "        layer_data = network[layer]\n",
    "        \n",
    "        layer_outputs = [] \n",
    "        for layer_node in layer_data:\n",
    "        \n",
    "            node_data = layer_data[layer_node]\n",
    "        \n",
    "            # compute the weighted sum and the output of each node at the same time \n",
    "            node_output = node_activation(compute_weighted_sum(layer_inputs, node_data['weights'], node_data['bias']))\n",
    "            layer_outputs.append(np.around(node_output[0], decimals=4))\n",
    "            \n",
    "        if layer != 'output':\n",
    "            print('The outputs of the nodes in hidden layer number {} is {}'.format(layer.split('_')[1], layer_outputs))\n",
    "    \n",
    "        layer_inputs = layer_outputs # set the output of this layer to be the input to next layer\n",
    "\n",
    "    network_predictions = layer_outputs\n",
    "    return network_predictions"
   ]
  },
  {
   "cell_type": "code",
   "execution_count": 24,
   "id": "9bafad97-73e2-421c-b942-7f606036024b",
   "metadata": {},
   "outputs": [
    {
     "name": "stdout",
     "output_type": "stream",
     "text": [
      "The outputs of the nodes in hidden layer number 1 is [0.8053, 0.7862, 0.8175]\n",
      "The outputs of the nodes in hidden layer number 2 is [0.8404, 0.8464]\n",
      "The outputs of the nodes in hidden layer number 3 is [0.7346, 0.812, 0.6764]\n"
     ]
    },
    {
     "data": {
      "text/plain": [
       "[0.8831]"
      ]
     },
     "execution_count": 24,
     "metadata": {},
     "output_type": "execute_result"
    }
   ],
   "source": [
    "forward_propagate(small_network, inputs)"
   ]
  },
  {
   "cell_type": "code",
   "execution_count": 27,
   "id": "b59a78aa-8968-4c12-95e0-0fddf4a572eb",
   "metadata": {},
   "outputs": [
    {
     "name": "stdout",
     "output_type": "stream",
     "text": [
      "Result: 0.268\n"
     ]
    }
   ],
   "source": [
    "temp_z = 0.5 * 0.55 - 0.35 * 0.45 + 0.15\n",
    "\n",
    "print('Result: {}'.format(np.around(temp_z, decimals=3)))"
   ]
  },
  {
   "cell_type": "code",
   "execution_count": 28,
   "id": "cf8ff248-edda-4cc0-96ed-e9371e0783ad",
   "metadata": {},
   "outputs": [
    {
     "name": "stdout",
     "output_type": "stream",
     "text": [
      "Activation result: 0.566\n"
     ]
    }
   ],
   "source": [
    "temp_a = 1.0 / (1.0 + np.exp(-temp_z))\n",
    "print('Activation result: {}'.format(np.around(temp_a, decimals=3)))"
   ]
  },
  {
   "cell_type": "code",
   "execution_count": null,
   "id": "192f55c6-0d3c-4832-823e-723c73ad1bc6",
   "metadata": {},
   "outputs": [],
   "source": []
  }
 ],
 "metadata": {
  "kernelspec": {
   "display_name": "Python",
   "language": "python",
   "name": "conda-env-python-py"
  },
  "language_info": {
   "codemirror_mode": {
    "name": "ipython",
    "version": 3
   },
   "file_extension": ".py",
   "mimetype": "text/x-python",
   "name": "python",
   "nbconvert_exporter": "python",
   "pygments_lexer": "ipython3",
   "version": "3.7.12"
  }
 },
 "nbformat": 4,
 "nbformat_minor": 5
}
